{
 "cells": [
  {
   "cell_type": "code",
   "execution_count": 112,
   "id": "cc268359",
   "metadata": {},
   "outputs": [],
   "source": [
    "import pandas as pd\n",
    "import matplotlib.pyplot as plt\n",
    "\n",
    "# Load the xlsx file\n",
    "excel_data = pd.read_excel('ud_2023-03-10.xlsx')\n",
    "# Read the values of the file in the dataframe\n",
    "data = pd.DataFrame(excel_data, columns=[\n",
    "    'participant.id_in_session',\n",
    "    'participant.code',\n",
    "    'participant.payoff',\n",
    "    'player.id_in_group',\n",
    "    'player.payoff',\n",
    "    'group.id_in_subsession',\n",
    "    'group.sent_amount',\n",
    "    'group.accept_answer',\n",
    "    'subsession.round_number',\n",
    "    ''\n",
    "])\n",
    "# Print the content\n",
    "# print(\"The content of the file is:\\n\", data['participant.code'])\n",
    "\n",
    "# Найти средний размер предложения партнеру по всем участникам за всю игру. = 3.66\n",
    "def averageOffer():\n",
    "    offers = data['group.sent_amount']\n",
    "    avg = sum(offers) / len(data)\n",
    "    print(avg)\n",
    "\n",
    "# Найти среднюю величину предложения, на которое соглашались участники. = 4.21\n",
    "def averageOfferAccepted():\n",
    "    sentAmountAccepted = data.loc[data['group.accept_answer'] == 'ДА', 'group.sent_amount'].sum()\n",
    "    acceptedNum = len(data[data['group.accept_answer'] == 'ДА'])\n",
    "    avgAccepted = sentAmountAccepted / acceptedNum\n",
    "    print(avgAccepted)\n",
    "\n",
    "# Найти средние, разбив все попытки на группы по 5 ??? Всего же 10 раундов\n",
    "\n",
    "# Вычисление среднего предложения от определенного участника\n",
    "def personalAverageOffer(playerId):\n",
    "    sentAmount = data.loc[(data['player.id_in_group'] == 1) & (data['participant.id_in_session'] == playerId), 'group.sent_amount'].sum()\n",
    "    sentNum = len(data[(data['participant.id_in_session'] == playerId) & (data['player.id_in_group'] == 1)])\n",
    "    return sentAmount / sentNum\n",
    "\n",
    "# Средний размер предложения от определенного участника\n",
    "def averageOfferFromPlayers():\n",
    "    playersNum = data['participant.id_in_session'].nunique()\n",
    "    playersAverageOffers = {}\n",
    "    offersSum = 0\n",
    "    for i in range(playersNum):\n",
    "        playersAverageOffers[i + 1] = personalAverageOffer(i + 1)\n",
    "        offersSum += personalAverageOffer(i + 1)\n",
    "    return offersSum / playersNum, playersAverageOffers\n",
    "\n",
    "# Вычисление среднего принятого предложения от определенного участника\n",
    "def personalAverageOfferAccepted(playerId):\n",
    "    sentAmount = data.loc[\n",
    "        (data['player.id_in_group'] == 1) &\n",
    "        (data['participant.id_in_session'] == playerId) &\n",
    "        (data['group.accept_answer'] == 'ДА'),\n",
    "        'group.sent_amount'\n",
    "    ].sum()\n",
    "    sentNum = len(data[\n",
    "                      (data['participant.id_in_session'] == playerId) &\n",
    "                      (data['player.id_in_group'] == 1) &\n",
    "                      (data['group.accept_answer'] == 'ДА')\n",
    "                      ])\n",
    "    return sentAmount / sentNum\n",
    "\n",
    "# Средний размер принятого предложения от определенного участника\n",
    "def averageOfferFromPlayersAccepted():\n",
    "    playersNum = data['participant.id_in_session'].nunique()\n",
    "    playersAverageOffers = {}\n",
    "    offersSum = 0\n",
    "    for i in range(playersNum):\n",
    "        playersAverageOffers[i + 1] = personalAverageOfferAccepted(i + 1)\n",
    "        offersSum += personalAverageOfferAccepted(i + 1)\n",
    "\n",
    "    return offersSum / playersNum, playersAverageOffers\n",
    "    "
   ]
  },
  {
   "cell_type": "markdown",
   "id": "7a0ada86",
   "metadata": {},
   "source": [
    "Средний размер предложения партнеру по всем участникам за всю игр:"
   ]
  },
  {
   "cell_type": "code",
   "execution_count": 113,
   "id": "d13f6b3f",
   "metadata": {},
   "outputs": [
    {
     "name": "stdout",
     "output_type": "stream",
     "text": [
      "3.663625000000002\n"
     ]
    }
   ],
   "source": [
    "averageOffer()"
   ]
  },
  {
   "cell_type": "markdown",
   "id": "7579afbe",
   "metadata": {},
   "source": [
    "Средняя величина предложения, на которое соглашались участники:"
   ]
  },
  {
   "cell_type": "code",
   "execution_count": 114,
   "id": "80ed34f2",
   "metadata": {},
   "outputs": [
    {
     "name": "stdout",
     "output_type": "stream",
     "text": [
      "4.210517241379311\n"
     ]
    }
   ],
   "source": [
    "averageOfferAccepted()"
   ]
  },
  {
   "cell_type": "markdown",
   "id": "91cc4a86",
   "metadata": {},
   "source": [
    "Среднее предложение от определенного участника:"
   ]
  },
  {
   "cell_type": "code",
   "execution_count": 115,
   "id": "fe7a9105",
   "metadata": {},
   "outputs": [
    {
     "name": "stdout",
     "output_type": "stream",
     "text": [
      "{1: 4.992, 2: 1.4, 3: 2.5, 4: 1.8, 5: 3.8, 6: 5.0, 7: 4.3, 8: 3.9200000000000004, 9: 3.9, 10: 4.7, 11: 5.0, 12: 4.998, 13: 2.988, 14: 3.8, 15: 3.3, 16: 2.2199999999999998}\n"
     ]
    }
   ],
   "source": [
    "(averageOfferFromPlayers, allOffers) = averageOfferFromPlayers()\n",
    "print(allOffers)"
   ]
  },
  {
   "cell_type": "markdown",
   "id": "c55ccd0e",
   "metadata": {},
   "source": [
    "Среднее принятое предложение от определенного участника:"
   ]
  },
  {
   "cell_type": "code",
   "execution_count": 116,
   "id": "e7a7df87",
   "metadata": {},
   "outputs": [
    {
     "name": "stdout",
     "output_type": "stream",
     "text": [
      "{1: 4.992, 2: 2.0, 3: 2.75, 4: 3.0, 5: 4.25, 6: 5.0, 7: 4.625, 8: 3.9200000000000004, 9: 4.5, 10: 5.0, 11: 5.0, 12: 5.6225000000000005, 13: 3.0033333333333334, 14: 3.95, 15: 3.25, 16: 2.6999999999999997}\n"
     ]
    }
   ],
   "source": [
    "(averageOfferFromPlayersAccepted, allOffersAccepted) = averageOfferFromPlayersAccepted()\n",
    "print(allOffersAccepted)"
   ]
  },
  {
   "cell_type": "markdown",
   "id": "f45385cd",
   "metadata": {},
   "source": [
    "Отсортируем участников по величине предложения партнеру:"
   ]
  },
  {
   "cell_type": "code",
   "execution_count": 101,
   "id": "5e418331",
   "metadata": {},
   "outputs": [
    {
     "data": {
      "text/plain": [
       "{2: 1.4,\n",
       " 4: 1.8,\n",
       " 16: 2.2199999999999998,\n",
       " 3: 2.5,\n",
       " 13: 2.988,\n",
       " 15: 3.3,\n",
       " 5: 3.8,\n",
       " 14: 3.8,\n",
       " 9: 3.9,\n",
       " 8: 3.9200000000000004,\n",
       " 7: 4.3,\n",
       " 10: 4.7,\n",
       " 1: 4.992,\n",
       " 12: 4.998,\n",
       " 6: 5.0,\n",
       " 11: 5.0}"
      ]
     },
     "execution_count": 101,
     "metadata": {},
     "output_type": "execute_result"
    }
   ],
   "source": [
    "{k: v for k, v in sorted(allOffers.items(), key=lambda item: item[1])}"
   ]
  },
  {
   "cell_type": "markdown",
   "id": "4534d238",
   "metadata": {},
   "source": [
    "И по величине принятого предложения:"
   ]
  },
  {
   "cell_type": "code",
   "execution_count": 102,
   "id": "02c188bd",
   "metadata": {},
   "outputs": [
    {
     "data": {
      "text/plain": [
       "{2: 2.0,\n",
       " 16: 2.6999999999999997,\n",
       " 3: 2.75,\n",
       " 4: 3.0,\n",
       " 13: 3.0033333333333334,\n",
       " 15: 3.25,\n",
       " 8: 3.9200000000000004,\n",
       " 14: 3.95,\n",
       " 5: 4.25,\n",
       " 9: 4.5,\n",
       " 7: 4.625,\n",
       " 1: 4.992,\n",
       " 6: 5.0,\n",
       " 10: 5.0,\n",
       " 11: 5.0,\n",
       " 12: 5.6225000000000005}"
      ]
     },
     "execution_count": 102,
     "metadata": {},
     "output_type": "execute_result"
    }
   ],
   "source": [
    "{k: v for k, v in sorted(allOffersAccepted.items(), key=lambda item: item[1])}"
   ]
  },
  {
   "cell_type": "markdown",
   "id": "7b043bf2",
   "metadata": {},
   "source": [
    "Заметим, что значения принятых предложений выше значений непринятых, что логично. \n",
    "После сортировки можем увидеть средние предложения каждого из участников."
   ]
  },
  {
   "cell_type": "markdown",
   "id": "d13bad5d",
   "metadata": {},
   "source": [
    "Как я играл в эту игру? Я старался предлагать партнеру чуть меньше половины. Понял, что лучше сильно не наглеть и не делить сумму в соотношении 1:10. \n",
    "В целом думаю, что оптимально будет предлагать от 50 до ±40% бюджета своему партнеру из незнакомой компании, чтобы никому не было обидно. При этом соглашаться тоже только на предложения из этого диапазона."
   ]
  },
  {
   "cell_type": "markdown",
   "id": "730f233a",
   "metadata": {},
   "source": [
    "----------------------------------------\n",
    "\n",
    "Теперь перейдём к анализу игры \"Доверие\""
   ]
  },
  {
   "cell_type": "code",
   "execution_count": 120,
   "id": "738c295a",
   "metadata": {},
   "outputs": [],
   "source": [
    "# Load the xlsx file\n",
    "excel_data = pd.read_excel('trust_2023-03-10.xlsx')\n",
    "# Read the values of the file in the dataframe\n",
    "data = pd.DataFrame(excel_data, columns=[\n",
    "    'participant.id_in_session',\n",
    "    'participant.label',\n",
    "    'participant.payoff',\n",
    "    'player.id_in_group',\n",
    "    'player.payoff',\n",
    "    'group.id_in_subsession',\n",
    "    'group.sent_amount',\n",
    "    'group.sent_back_amount',\n",
    "    'subsession.round_number',\n",
    "    ''\n",
    "])"
   ]
  },
  {
   "cell_type": "markdown",
   "id": "3d42cfde",
   "metadata": {},
   "source": [
    "Найти средний размер предложения партнеру по всем участникам за всю игру. = 5.69"
   ]
  },
  {
   "cell_type": "code",
   "execution_count": 121,
   "id": "632ed4a1",
   "metadata": {},
   "outputs": [],
   "source": [
    "\n",
    "def averageOfferSentTrust():\n",
    "    offers = data['group.sent_amount']\n",
    "    avg = sum(offers) / len(data)\n",
    "    print(avg)"
   ]
  },
  {
   "cell_type": "code",
   "execution_count": 122,
   "id": "fe85bfe3",
   "metadata": {},
   "outputs": [
    {
     "name": "stdout",
     "output_type": "stream",
     "text": [
      "5.6875\n"
     ]
    }
   ],
   "source": [
    "averageOfferSentTrust()"
   ]
  },
  {
   "cell_type": "markdown",
   "id": "e76494f9",
   "metadata": {},
   "source": [
    "Найти среднюю величину благодарности участника. = 5.49"
   ]
  },
  {
   "cell_type": "code",
   "execution_count": 123,
   "id": "729afbaa",
   "metadata": {},
   "outputs": [],
   "source": [
    "\n",
    "def averageOfferSentBackTrust():\n",
    "    offers = data['group.sent_back_amount']\n",
    "    avg = sum(offers) / len(data)\n",
    "    print(avg)"
   ]
  },
  {
   "cell_type": "code",
   "execution_count": 124,
   "id": "4e6068c9",
   "metadata": {},
   "outputs": [
    {
     "name": "stdout",
     "output_type": "stream",
     "text": [
      "5.498333333333334\n"
     ]
    }
   ],
   "source": [
    "averageOfferSentBackTrust()"
   ]
  },
  {
   "cell_type": "markdown",
   "id": "c6d3a231",
   "metadata": {},
   "source": [
    "Есть ли динамика этих показателей по попыткам? (Найти средние, разбив все\n",
    "попытки на группы по 5) ??? Такой же вопрос, всего 6 раундов"
   ]
  },
  {
   "cell_type": "markdown",
   "id": "605a5e66",
   "metadata": {},
   "source": [
    "Посчитать те же характеристики для каждого участника по отдельности."
   ]
  },
  {
   "cell_type": "code",
   "execution_count": 125,
   "id": "c01dd059",
   "metadata": {},
   "outputs": [],
   "source": [
    "# Вычисление среднего предложения от определенного участника\n",
    "def personalAverageOfferTrust(playerId):\n",
    "    sentAmount = data.loc[(data['player.id_in_group'] == 1) & (data['participant.id_in_session'] == playerId), 'group.sent_amount'].sum()\n",
    "    sentNum = len(data[(data['participant.id_in_session'] == playerId) & (data['player.id_in_group'] == 1)])\n",
    "    return sentAmount / sentNum\n",
    "\n",
    "def averageOfferFromPlayersTrust():\n",
    "    playersNum = data['participant.id_in_session'].nunique()\n",
    "    playersAverageOffers = {}\n",
    "    offersSum = 0\n",
    "    for i in range(playersNum):\n",
    "        playersAverageOffers[i + 1] = personalAverageOfferTrust(i + 1)\n",
    "        offersSum += personalAverageOffer(i + 1)\n",
    "    return offersSum / playersNum, playersAverageOffers"
   ]
  },
  {
   "cell_type": "code",
   "execution_count": 128,
   "id": "4f9c7733",
   "metadata": {},
   "outputs": [
    {
     "name": "stdout",
     "output_type": "stream",
     "text": [
      "Средние предложения по участникам:\n",
      "{1: 7.333333333333333, 2: 0.0, 3: 8.0, 4: 0.0, 5: 0.0, 6: 8.666666666666666, 7: 7.666666666666667, 8: 0.0, 9: 3.0, 10: 6.0, 11: 10.0, 12: 9.0, 13: 4.333333333333333, 14: 7.0, 15: 10.0, 16: 10.0}\n"
     ]
    }
   ],
   "source": [
    "(avg, offersTrust) = averageOfferFromPlayersTrust()\n",
    "print('Средние предложения по участникам:')\n",
    "print(offersTrust)"
   ]
  },
  {
   "cell_type": "markdown",
   "id": "72985c3b",
   "metadata": {},
   "source": [
    "Средняя величина благодарности по участникам:"
   ]
  },
  {
   "cell_type": "code",
   "execution_count": 130,
   "id": "6aab4c1f",
   "metadata": {},
   "outputs": [],
   "source": [
    "\n",
    "def personalAverageOfferSentBackTrust(playerId):\n",
    "    sentAmount = data.loc[(data['player.id_in_group'] == 1) & (data['participant.id_in_session'] == playerId), 'group.sent_back_amount'].sum()\n",
    "    sentNum = len(data[(data['participant.id_in_session'] == playerId) & (data['player.id_in_group'] == 1)])\n",
    "    return sentAmount / sentNum\n",
    "\n",
    "def averageOfferSentBackFromPlayersTrust():\n",
    "    playersNum = data['participant.id_in_session'].nunique()\n",
    "    playersAverageOffers = {}\n",
    "    offersSum = 0\n",
    "    for i in range(playersNum):\n",
    "        playersAverageOffers[i + 1] = personalAverageOfferSentBackTrust(i + 1)\n",
    "        offersSum += personalAverageOffer(i + 1)\n",
    "    return offersSum / playersNum, playersAverageOffers"
   ]
  },
  {
   "cell_type": "code",
   "execution_count": 132,
   "id": "88984705",
   "metadata": {},
   "outputs": [
    {
     "name": "stdout",
     "output_type": "stream",
     "text": [
      "Средние величины благодарности по участникам:\n",
      "{1: 0.0, 2: 0.0, 3: 6.666666666666667, 4: 0.0, 5: 0.0, 6: 8.333333333333334, 7: 7.666666666666667, 8: 0.0, 9: 3.1666666666666665, 10: 8.0, 11: 14.993333333333334, 12: 5.333333333333333, 13: 0.0, 14: 5.666666666666667, 15: 14.833333333333334, 16: 13.313333333333333}\n"
     ]
    }
   ],
   "source": [
    "(avg, offersSentBackTrust) = averageOfferSentBackFromPlayersTrust()\n",
    "print('Средние величины благодарности по участникам:')\n",
    "print(offersSentBackTrust)"
   ]
  },
  {
   "cell_type": "markdown",
   "id": "d6459a33",
   "metadata": {},
   "source": [
    "Отсортируем участников по величине предложения партнёру:"
   ]
  },
  {
   "cell_type": "code",
   "execution_count": 134,
   "id": "610d5764",
   "metadata": {},
   "outputs": [
    {
     "data": {
      "text/plain": [
       "{2: 0.0,\n",
       " 4: 0.0,\n",
       " 5: 0.0,\n",
       " 8: 0.0,\n",
       " 9: 3.0,\n",
       " 13: 4.333333333333333,\n",
       " 10: 6.0,\n",
       " 14: 7.0,\n",
       " 1: 7.333333333333333,\n",
       " 7: 7.666666666666667,\n",
       " 3: 8.0,\n",
       " 6: 8.666666666666666,\n",
       " 12: 9.0,\n",
       " 11: 10.0,\n",
       " 15: 10.0,\n",
       " 16: 10.0}"
      ]
     },
     "execution_count": 134,
     "metadata": {},
     "output_type": "execute_result"
    }
   ],
   "source": [
    "{k: v for k, v in sorted(offersTrust.items(), key=lambda item: item[1])}"
   ]
  },
  {
   "cell_type": "markdown",
   "id": "b47bb178",
   "metadata": {},
   "source": [
    "И по величине благодарности:"
   ]
  },
  {
   "cell_type": "code",
   "execution_count": 136,
   "id": "bd85619f",
   "metadata": {},
   "outputs": [
    {
     "data": {
      "text/plain": [
       "{1: 0.0,\n",
       " 2: 0.0,\n",
       " 4: 0.0,\n",
       " 5: 0.0,\n",
       " 8: 0.0,\n",
       " 13: 0.0,\n",
       " 9: 3.1666666666666665,\n",
       " 12: 5.333333333333333,\n",
       " 14: 5.666666666666667,\n",
       " 3: 6.666666666666667,\n",
       " 7: 7.666666666666667,\n",
       " 10: 8.0,\n",
       " 6: 8.333333333333334,\n",
       " 16: 13.313333333333333,\n",
       " 15: 14.833333333333334,\n",
       " 11: 14.993333333333334}"
      ]
     },
     "execution_count": 136,
     "metadata": {},
     "output_type": "execute_result"
    }
   ],
   "source": [
    "{k: v for k, v in sorted(offersSentBackTrust.items(), key=lambda item: item[1])}"
   ]
  },
  {
   "cell_type": "markdown",
   "id": "50dac72b",
   "metadata": {},
   "source": [
    "Сразу можем выделить жадин-эгоистов :)"
   ]
  },
  {
   "cell_type": "markdown",
   "id": "494ed6c8",
   "metadata": {},
   "source": [
    "Я старался не жадничать и поддерживать равновесие в выигрышах себя и своих партнёров, потому что только в таком случае можно обеспечить себе стабильный безрисковый (относительно) выигрыш. Думаю, что при игре в незнакомой компании вёл себя точно так же, дабы в случае чего, не уйти сильно в минус."
   ]
  }
 ],
 "metadata": {
  "kernelspec": {
   "display_name": "Python 3 (ipykernel)",
   "language": "python",
   "name": "python3"
  },
  "language_info": {
   "codemirror_mode": {
    "name": "ipython",
    "version": 3
   },
   "file_extension": ".py",
   "mimetype": "text/x-python",
   "name": "python",
   "nbconvert_exporter": "python",
   "pygments_lexer": "ipython3",
   "version": "3.9.6"
  }
 },
 "nbformat": 4,
 "nbformat_minor": 5
}
